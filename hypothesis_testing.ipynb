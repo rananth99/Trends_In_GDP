{
 "cells": [
  {
   "cell_type": "code",
   "execution_count": 12,
   "metadata": {},
   "outputs": [],
   "source": [
    "import numpy as np\n",
    "import pandas as pd\n",
    "from scipy.stats import norm\n",
    "import matplotlib.pyplot as plt\n",
    "%matplotlib inline"
   ]
  },
  {
   "cell_type": "code",
   "execution_count": 17,
   "metadata": {},
   "outputs": [],
   "source": [
    "df=pd.read_csv('world_gdp_clean.csv')"
   ]
  },
  {
   "cell_type": "code",
   "execution_count": 29,
   "metadata": {},
   "outputs": [
    {
     "name": "stdout",
     "output_type": "stream",
     "text": [
      "Confidence interval:\n",
      "\tWe construct a 90% confidence interval for mean of a sample set taken from the year 2015.\n",
      "Sample mean: 2.83e+12\n",
      "Sample standard deviation: 8.45e+12\n",
      "\n",
      "Results:\n",
      "\tLower bound of mean: 7.59e+11\n",
      "\tUpper bound of mean: 4.90e+12\n",
      "\n"
     ]
    }
   ],
   "source": [
    "def confidence_interval(sample_mean, sample_std, n, alpha):\n",
    "    z = abs(norm.ppf(alpha/2))\n",
    "    moe = (z*sample_std)/(n**0.5)\n",
    "    return [sample_mean-moe,sample_mean+moe]\n",
    "\n",
    "X = np.array(df['YEAR2015'],dtype='float64') # Population set\n",
    "sample_size = 45\n",
    "    \n",
    "alpha = 0.1  # 90% CI\n",
    "\n",
    "x = np.random.permutation(X)[:sample_size] #Sample set\n",
    "\n",
    "mu_x = np.mean(x)\n",
    "std_x = np.std(x)\n",
    "\n",
    "print(\"Confidence interval:\")\n",
    "print(\"\\tWe construct a 90% confidence interval for mean of a sample set taken from the year 2015.\")\n",
    "print(\"Sample mean: {0:.2e}\".format(mu_x))\n",
    "print(\"Sample standard deviation: {0:.2e}\\n\".format(std_x))\n",
    "\n",
    "ci = confidence_interval(mu_x, std_x, sample_size, alpha)\n",
    "\n",
    "print(\"Results:\")\n",
    "print(\"\\tLower bound of mean: {0:.2e}\".format(ci[0]))\n",
    "print(\"\\tUpper bound of mean: {0:.2e}\\n\".format(ci[1]))"
   ]
  },
  {
   "cell_type": "code",
   "execution_count": 26,
   "metadata": {},
   "outputs": [
    {
     "name": "stdout",
     "output_type": "stream",
     "text": [
      "\n",
      "Hypothesis testing.\n",
      "\n",
      "\tFollowing hypothesis is to test if the mean gdp of countries in the year 2016 is more than twice the mean gdp of the countries in the year 2006.\n",
      "\n",
      "MUx denotes the sample mean gdp of countries in year 2006.\n",
      "MUy denotes the sample mean gdp of countries in year 2016.\n",
      "\n",
      "Sample size = 45\n",
      "Null hypothesis : 2*MUx - MUy <= 0\n",
      "Alternate hypothesis : 2*MUx - MUy > 0\n",
      "\n",
      "actual z value : 1.64\n",
      "hypothesis z value : 0.54\n",
      "\n",
      "\n",
      "The result of the hypothesis test is:\n",
      "\tNull hypothesis is probable.\n"
     ]
    }
   ],
   "source": [
    "def hypothesis_test(sample_mean, pop_mean, std_dev, sample_size, alpha):\n",
    "    \n",
    "    actual_z = abs(norm.ppf(alpha))\n",
    "    hypo_z = (sample_mean - pop_mean) / (std_dev/(sample_size)**0.5)\n",
    "    \n",
    "    print('actual z value : {0:.2f}'.format(actual_z))\n",
    "    print('hypothesis z value : {0:.2f}\\n'.format(hypo_z))\n",
    "    if hypo_z >= actual_z:\n",
    "        return True\n",
    "    else:\n",
    "        return False\n",
    "\n",
    "X = np.array(df['YEAR2006'],dtype='float64') # Population set\n",
    "Y = np.array(df['YEAR2016'],dtype='float64') # Poputlation set\n",
    "\n",
    "alpha = 0.05 # 90% rejection region\n",
    "\n",
    "pop_size = len(X)\n",
    "sample_size = 45 # Hardcoded\n",
    "\n",
    "x = np.random.permutation(X)[:sample_size] #Sample set\n",
    "y = np.random.permutation(Y)[:sample_size] #Sample set\n",
    "\n",
    "mu_x = np.mean(x)\n",
    "std_x = np.std(x)\n",
    "\n",
    "mu_y = np.mean(y)\n",
    "std_y = np.std(y)\n",
    "\n",
    "test_mu = 2*mu_x-mu_y\n",
    "test_std = ((2*std_x)**2 + std_y**2)**0.5\n",
    "\n",
    "print('\\nHypothesis testing.\\n')\n",
    "print('\\tFollowing hypothesis is to test if the mean gdp of countries in the year 2016 is more than twice the mean gdp of the countries in the year 2006.')\n",
    "print(\"\\nMUx denotes the sample mean gdp of countries in year 2006.\")\n",
    "print(\"MUy denotes the sample mean gdp of countries in year 2016.\\n\")\n",
    "print(\"Sample size =\",sample_size)\n",
    "print('Null hypothesis : 2*MUx - MUy <= 0')\n",
    "print('Alternate hypothesis : 2*MUx - MUy > 0\\n')\n",
    "\n",
    "result = hypothesis_test(test_mu,0,test_std,sample_size,alpha)\n",
    "\n",
    "print(\"\\nThe result of the hypothesis test is:\")\n",
    "if(result==True):\n",
    "    print(\"\\tNull hypothesis is rejected. Alternate hypothesis is true\")\n",
    "else:\n",
    "    print(\"\\tNull hypothesis is probable.\")\n"
   ]
  },
  {
   "cell_type": "code",
   "execution_count": null,
   "metadata": {},
   "outputs": [],
   "source": []
  },
  {
   "cell_type": "code",
   "execution_count": null,
   "metadata": {},
   "outputs": [],
   "source": []
  }
 ],
 "metadata": {
  "kernelspec": {
   "display_name": "Python 3",
   "language": "python",
   "name": "python3"
  },
  "language_info": {
   "codemirror_mode": {
    "name": "ipython",
    "version": 3
   },
   "file_extension": ".py",
   "mimetype": "text/x-python",
   "name": "python",
   "nbconvert_exporter": "python",
   "pygments_lexer": "ipython3",
   "version": "3.5.2"
  }
 },
 "nbformat": 4,
 "nbformat_minor": 2
}
